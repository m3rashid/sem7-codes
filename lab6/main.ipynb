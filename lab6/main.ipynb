{
 "cells": [
  {
   "cell_type": "code",
   "execution_count": null,
   "metadata": {},
   "outputs": [],
   "source": [
    "import pandas as pd\n",
    "import math\n",
    "\n",
    "df = pd.read_csv(\"data.csv\")\n",
    "df\n"
   ]
  },
  {
   "cell_type": "code",
   "execution_count": null,
   "metadata": {},
   "outputs": [],
   "source": [
    "# generalized function to calculate different values in a column with their counts\n",
    "def calculate_values(df, column):\n",
    "    values = df[column].unique()\n",
    "    #return values in a object as:\n",
    "    #{ value1: count1, value2: count2, ...}\n",
    "\n",
    "    # create a dictionary to store the values and counts\n",
    "    value_counts = {}\n",
    "    for value in values:\n",
    "        value_counts[value] = len(df[df[column] == value])\n",
    "    return value_counts\n",
    "\n",
    "\n",
    "# calculate the values and counts for the target column\n",
    "age = calculate_values(df, \"age\")\n",
    "income = calculate_values(df, \"income\")\n",
    "student = calculate_values(df, \"student\")\n",
    "credit_rating = calculate_values(df, \"credit_rating\")\n",
    "buys_computer = calculate_values(df, \"buys_computer\")\n",
    "\n",
    "age, income, student, credit_rating, buys_computer\n"
   ]
  },
  {
   "cell_type": "code",
   "execution_count": null,
   "metadata": {},
   "outputs": [],
   "source": [
    "# calculate the info(D) of the target column\n",
    "def calculate_info(df, column):\n",
    "    # calculate the values and counts for the target column\n",
    "    value_counts = calculate_values(df, column)\n",
    "    # calculate the total number of rows\n",
    "    total = len(df)\n",
    "    # calculate the info(D)\n",
    "    info = 0\n",
    "    for value in value_counts:\n",
    "        info += (-value_counts[value]/total) * \\\n",
    "            math.log2(value_counts[value]/total)\n",
    "    return info\n",
    "\n",
    "buys_computer_info = calculate_info(df, \"buys_computer\")\n",
    "buys_computer_info = round(buys_computer_info, 3)\n",
    "\n",
    "buys_computer_info\n"
   ]
  },
  {
   "cell_type": "code",
   "execution_count": null,
   "metadata": {},
   "outputs": [],
   "source": [
    "# calculate the info(D, A) of the target column\n",
    "def calculate_info_attribute(df, column, target):\n",
    "    # calculate the values and counts for the target column\n",
    "    value_counts = calculate_values(df, column)\n",
    "    # calculate the total number of rows\n",
    "    total = len(df)\n",
    "    # calculate the info(D, A)\n",
    "    info_attribute = 0\n",
    "    for value in value_counts:\n",
    "        # calculate the info(D, A) for each value\n",
    "        info = calculate_info(df[df[column] == value], target)\n",
    "        info_attribute += (value_counts[value]/total) * info\n",
    "    return info_attribute\n",
    "\n",
    "age_info = calculate_info_attribute(df, \"age\", \"buys_computer\")\n",
    "\n",
    "age_info = round(age_info, 3)\n",
    "\n",
    "age_info\n"
   ]
  },
  {
   "cell_type": "code",
   "execution_count": null,
   "metadata": {},
   "outputs": [],
   "source": [
    "# GAIN CALCULATION\n",
    "\n",
    "# calculate the gain(D, A) of the target column\n",
    "def calculate_gain(df, column, target):\n",
    "    # calculate the info(D) of the target column\n",
    "    info = calculate_info(df, target)\n",
    "    # calculate the info(D, A) of the target column\n",
    "    info_attribute = calculate_info_attribute(df, column, target)\n",
    "    # calculate the gain(D, A)\n",
    "    gain = info - info_attribute\n",
    "    return gain\n",
    "\n",
    "age_gain = round(calculate_gain(df, \"age\", \"buys_computer\"), 3)\n",
    "income_gain = round(calculate_gain(df, \"income\", \"buys_computer\"), 3)\n",
    "student_gain = round(calculate_gain(df, \"student\", \"buys_computer\"), 3)\n",
    "credit_rating_gain = round(calculate_gain(df, \"credit_rating\", \"buys_computer\"), 3)\n",
    "\n",
    "age_gain, income_gain, student_gain, credit_rating_gain\n"
   ]
  },
  {
   "cell_type": "code",
   "execution_count": null,
   "metadata": {},
   "outputs": [],
   "source": [
    "# calculate the root node\n",
    "def calculate_root(df, target):\n",
    "    # calculate the gain(D, A) of the target column\n",
    "    age_gain = calculate_gain(df, \"age\", target)\n",
    "    income_gain = calculate_gain(df, \"income\", target)\n",
    "    student_gain = calculate_gain(df, \"student\", target)\n",
    "    credit_rating_gain = calculate_gain(df, \"credit_rating\", target)\n",
    "\n",
    "    dict = {\"age\": age_gain, \"income\": income_gain,\n",
    "            \"student\": student_gain, \"credit_rating\": credit_rating_gain}\n",
    "    # calculate the root node\n",
    "    root = max(age_gain, income_gain, student_gain, credit_rating_gain)\n",
    "\n",
    "    for key, value in dict.items():\n",
    "        if value == root:\n",
    "            return key\n",
    "\n",
    "root = calculate_root(df, \"buys_computer\")\n",
    "\n",
    "root\n"
   ]
  }
 ],
 "metadata": {
  "language_info": {
   "name": "python"
  }
 },
 "nbformat": 4,
 "nbformat_minor": 2
}
