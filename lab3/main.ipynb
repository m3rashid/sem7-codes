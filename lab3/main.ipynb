{
 "cells": [
  {
   "cell_type": "code",
   "execution_count": 113,
   "metadata": {},
   "outputs": [],
   "source": [
    "ignore_characters = [char for char in '.,/?<>;{[]}|\\\\+=–-_!@#$%^&*()\\n']\n",
    "\n",
    "stopWords = []\n",
    "with open('stopWords.txt', 'r') as stopWords_file:\n",
    "    for row in stopWords_file:\n",
    "        stopWords.append(row.rstrip('\\n\\r'))\n",
    "    stopWords_file.close()"
   ]
  },
  {
   "cell_type": "code",
   "execution_count": 114,
   "metadata": {},
   "outputs": [],
   "source": [
    "# Defining dataset\n",
    "questions = [\n",
    "    'What is JMI',\n",
    "    'Where is JMI located',\n",
    "    'What are the courses by JMI',\n",
    "    'Which is the best boys hostel in JMI',\n",
    "    'What are the different branches in engineering',\n",
    "    'Which day is today',\n",
    "    'Is JMI a central university',\n",
    "    'Where is central canteen in JMI',\n",
    "]\n",
    "\n",
    "answers = [\n",
    "    'JMI is a central university',\n",
    "    'JMI is located in New Delhi',\n",
    "    'JMI offers MBA, B.Tech, M.Tech courses',\n",
    "    'Best boys hostel in JMI is FRK',\n",
    "    'CSE, ECE, EE, ME, CE are the different branches in engineering',\n",
    "    'Today is thursday',\n",
    "    'JMI is a central university',\n",
    "    'Central canteen lies inside gate 8 in JMI',\n",
    "]"
   ]
  },
  {
   "cell_type": "code",
   "execution_count": 115,
   "metadata": {},
   "outputs": [],
   "source": [
    "words_list_by_doc = []\n",
    "all_words = set()\n",
    "\n",
    "for line in questions:\n",
    "    new_words = set()\n",
    "    for word in line.split():\n",
    "        if word.lower() in stopWords: continue\n",
    "        if word.lower() in ignore_characters:\n",
    "            continue\n",
    "        new_word = \"\".join([c.lower()\n",
    "                           for c in word if c not in ignore_characters])\n",
    "        new_words.add(new_word)\n",
    "        all_words.add(new_word)\n",
    "    words_list_by_doc.append(new_words)"
   ]
  },
  {
   "cell_type": "code",
   "execution_count": 116,
   "metadata": {},
   "outputs": [],
   "source": [
    "from numpy.linalg import norm\n",
    "from numpy import dot\n",
    "\n",
    "\n",
    "def cosine_similarity(a, b):\n",
    "    return dot(a, b)/(norm(a)*norm(b))\n",
    "\n",
    "\n",
    "def check_present(key, words_list):\n",
    "    for word in words_list:\n",
    "        if (key == word):\n",
    "            return True\n",
    "    return False"
   ]
  },
  {
   "cell_type": "code",
   "execution_count": 117,
   "metadata": {},
   "outputs": [],
   "source": [
    "frequency_vector = []\n",
    "\n",
    "for words in words_list_by_doc:\n",
    "    frequency_arr = []\n",
    "    for word in all_words:\n",
    "        if check_present(word, words):\n",
    "            frequency_arr.append(1)\n",
    "        else:\n",
    "            frequency_arr.append(0)\n",
    "    frequency_vector.append(frequency_arr)"
   ]
  },
  {
   "cell_type": "code",
   "execution_count": 118,
   "metadata": {},
   "outputs": [],
   "source": [
    "def get_min_similarity(frequency: list[int]):\n",
    "    sim = -1\n",
    "    for i in range(len(frequency_vector)):\n",
    "        curr_sim = cosine_similarity(frequency, frequency_vector[i])\n",
    "        if curr_sim > sim:\n",
    "            sim = curr_sim\n",
    "            index = i\n",
    "    return index\n",
    "\n",
    "\n",
    "def get_vector(line: str):\n",
    "    words = line.split()\n",
    "    frequency_arr = []\n",
    "    for word in all_words:\n",
    "        if check_present(word, words):\n",
    "            frequency_arr.append(1)\n",
    "        else:\n",
    "            frequency_arr.append(0)\n",
    "    return frequency_arr"
   ]
  },
  {
   "cell_type": "code",
   "execution_count": 121,
   "metadata": {},
   "outputs": [
    {
     "name": "stdout",
     "output_type": "stream",
     "text": [
      "JMI offers MBA, B.Tech, M.Tech courses\n"
     ]
    }
   ],
   "source": [
    "prompt = input(\"Ask anything: \")\n",
    "print(answers[get_min_similarity(get_vector(prompt))])"
   ]
  }
 ],
 "metadata": {
  "kernelspec": {
   "display_name": "Python 3",
   "language": "python",
   "name": "python3"
  },
  "language_info": {
   "codemirror_mode": {
    "name": "ipython",
    "version": 3
   },
   "file_extension": ".py",
   "mimetype": "text/x-python",
   "name": "python",
   "nbconvert_exporter": "python",
   "pygments_lexer": "ipython3",
   "version": "3.10.12"
  },
  "orig_nbformat": 4
 },
 "nbformat": 4,
 "nbformat_minor": 2
}
