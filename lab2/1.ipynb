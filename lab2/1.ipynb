{
 "cells": [
  {
   "cell_type": "code",
   "execution_count": 18,
   "metadata": {},
   "outputs": [],
   "source": [
    "import pandas as pd\n",
    "import numpy as np\n",
    "\n",
    "csv_data = pd.DataFrame(pd.read_csv(\"animal.csv\"))\n",
    "labels = [n for n in csv_data][1:]\n",
    "\n",
    "for label in labels:\n",
    "  mode = csv_data[label].mode().iloc[0]\n",
    "  csv_data[label].fillna(mode, inplace=True)"
   ]
  },
  {
   "cell_type": "code",
   "execution_count": 19,
   "metadata": {},
   "outputs": [],
   "source": [
    "def calculate_distance(arr1, arr2):\n",
    "  if len(arr1) != len(arr2): return 1\n",
    "  length = len(arr1)\n",
    "  \n",
    "  sum = 0\n",
    "  for i in range(length):\n",
    "    sum += pow(arr1[i] - arr2[i], 2)\n",
    "  \n",
    "  return pow(sum, 1/2)"
   ]
  },
  {
   "cell_type": "code",
   "execution_count": 51,
   "metadata": {},
   "outputs": [],
   "source": [
    "data = csv_data.values\n",
    "result = dict()\n",
    "\n",
    "for i in range(len(data)):\n",
    "  for j in range(len(data)):\n",
    "    if i <= j: continue\n",
    "    result[(str(data[i][0]), str(data[j][0]))] = calculate_distance(data[i][1:], data[j][1:])\n",
    "\n",
    "result_arr = sorted(result.items(), key=lambda item: item[1])"
   ]
  },
  {
   "cell_type": "code",
   "execution_count": 57,
   "metadata": {},
   "outputs": [
    {
     "name": "stdout",
     "output_type": "stream",
     "text": [
      "Doc\t Doc\t Score\n",
      "lio\t cow\t 0.0\n",
      "lob\t ant\t 0.0\n",
      "man\t chi\t 0.0\n",
      "rab\t cow\t 0.0\n",
      "rab\t lio\t 0.0\n",
      "sal\t her\t 0.0\n",
      "spi\t cpl\t 0.0\n",
      "wha\t ele\t 0.0\n",
      "cow\t cat\t 1.0\n",
      "cow\t chi\t 1.0\n"
     ]
    }
   ],
   "source": [
    "print(\"Doc\\t Doc\\t Score\")\n",
    "COUNT = 10\n",
    "top_results = result_arr[:COUNT]\n",
    "\n",
    "for i in range(COUNT):\n",
    "  print(f\"{top_results[i][0][0]}\\t {top_results[i][0][1]}\\t {top_results[i][1]}\")"
   ]
  }
 ],
 "metadata": {
  "kernelspec": {
   "display_name": "Python 3",
   "language": "python",
   "name": "python3"
  },
  "language_info": {
   "codemirror_mode": {
    "name": "ipython",
    "version": 3
   },
   "file_extension": ".py",
   "mimetype": "text/x-python",
   "name": "python",
   "nbconvert_exporter": "python",
   "pygments_lexer": "ipython3",
   "version": "3.10.12"
  },
  "orig_nbformat": 4
 },
 "nbformat": 4,
 "nbformat_minor": 2
}
