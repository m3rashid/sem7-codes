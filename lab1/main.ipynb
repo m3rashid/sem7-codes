{
 "cells": [
  {
   "cell_type": "markdown",
   "metadata": {},
   "source": [
    "Python program to count frequency of occurrence of words in a text file"
   ]
  },
  {
   "cell_type": "code",
   "execution_count": 18,
   "metadata": {},
   "outputs": [
    {
     "name": "stdout",
     "output_type": "stream",
     "text": [
      "3 this\n",
      "2 file\n",
      "2 and\n",
      "1 is\n",
      "1 a\n",
      "1 text\n",
      "1 contains\n",
      "1 all\n",
      "1 the\n",
      "1 essential\n",
      "1 things\n",
      "1 that\n"
     ]
    }
   ],
   "source": [
    "ignore_characters = [char for char in '.,/?<>;{[]}|\\\\+=-_!@#$%^&*()\\n']\n",
    "\n",
    "def count_frequency ():\n",
    "  frequency_vector = dict()\n",
    "  with open('input.txt') as input_file:\n",
    "    for word in input_file.read().split():\n",
    "      word = \"\".join([c.lower() for c in word if c not in ignore_characters])\n",
    "      frequency_vector[word] = frequency_vector.get(word, 0) +1\n",
    "  return sorted(frequency_vector.items(), key=lambda x:x[1], reverse=True)\n",
    "\n",
    "\n",
    "if __name__ == \"__main__\":\n",
    "  frequency_vector = count_frequency()\n",
    "  for tups in frequency_vector:\n",
    "    print(tups[1], tups[0])"
   ]
  }
 ],
 "metadata": {
  "kernelspec": {
   "display_name": "Python 3",
   "language": "python",
   "name": "python3"
  },
  "language_info": {
   "codemirror_mode": {
    "name": "ipython",
    "version": 3
   },
   "file_extension": ".py",
   "mimetype": "text/x-python",
   "name": "python",
   "nbconvert_exporter": "python",
   "pygments_lexer": "ipython3",
   "version": "3.10.12"
  },
  "orig_nbformat": 4
 },
 "nbformat": 4,
 "nbformat_minor": 2
}
