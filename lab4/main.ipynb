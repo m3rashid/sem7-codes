{
 "cells": [
  {
   "cell_type": "code",
   "execution_count": 70,
   "metadata": {},
   "outputs": [],
   "source": [
    "import pandas as pd\n",
    "import numpy as np\n",
    "from mlxtend.frequent_patterns import apriori"
   ]
  },
  {
   "cell_type": "code",
   "execution_count": 71,
   "metadata": {},
   "outputs": [],
   "source": [
    "def generate_dataset(num_transactions, num_items, avg_items_per_transaction):\n",
    "\tnp.random.seed(42)\n",
    "\titems = [f\"item{i}\" for i in range(1, num_items + 1)]\n",
    "\tdata = []\n",
    "\tfor _ in range(num_transactions):\n",
    "\t\tnum_items_in_transaction = np.random.poisson(avg_items_per_transaction)\n",
    "\t\ttransaction = np.random.choice(items, size=num_items_in_transaction, replace=False)\n",
    "\t\tdata.append(transaction.tolist())\n",
    "\treturn data"
   ]
  },
  {
   "cell_type": "code",
   "execution_count": 87,
   "metadata": {},
   "outputs": [],
   "source": [
    "data = generate_dataset(num_transactions=10, num_items=6, avg_items_per_transaction=5)\n",
    "df = pd.DataFrame(data)\n",
    "min_support=0.2"
   ]
  },
  {
   "cell_type": "code",
   "execution_count": 112,
   "metadata": {},
   "outputs": [
    {
     "name": "stdout",
     "output_type": "stream",
     "text": [
      "    support                             itemsets\n",
      "16      0.6                       (item3, item5)\n",
      "10      0.5                       (item1, item6)\n",
      "14      0.5                       (item2, item6)\n",
      "6       0.4                       (item2, item1)\n",
      "18      0.4                       (item4, item5)\n",
      "36      0.4                (item2, item6, item5)\n",
      "35      0.4                (item4, item2, item6)\n",
      "7       0.4                       (item1, item3)\n",
      "24      0.4                (item2, item1, item6)\n",
      "20      0.4                       (item6, item5)\n",
      "19      0.4                       (item4, item6)\n",
      "33      0.4                (item2, item3, item6)\n",
      "17      0.4                       (item3, item6)\n",
      "9       0.4                       (item1, item5)\n",
      "13      0.4                       (item2, item5)\n",
      "12      0.4                       (item4, item2)\n",
      "15      0.4                       (item4, item3)\n",
      "8       0.4                       (item4, item1)\n",
      "11      0.4                       (item2, item3)\n",
      "54      0.3         (item4, item2, item6, item5)\n",
      "53      0.3         (item2, item3, item5, item6)\n",
      "52      0.3         (item4, item2, item3, item6)\n",
      "46      0.3         (item2, item1, item5, item6)\n",
      "45      0.3         (item4, item2, item1, item6)\n",
      "43      0.3         (item2, item1, item6, item3)\n",
      "40      0.3                (item4, item6, item5)\n",
      "38      0.3                (item4, item3, item6)\n",
      "37      0.3                (item4, item3, item5)\n",
      "39      0.3                (item3, item5, item6)\n",
      "34      0.3                (item4, item2, item5)\n",
      "23      0.3                (item2, item1, item5)\n",
      "31      0.3                (item4, item2, item3)\n",
      "30      0.3                (item1, item5, item6)\n",
      "29      0.3                (item4, item1, item6)\n",
      "28      0.3                (item4, item1, item5)\n",
      "27      0.3                (item1, item6, item3)\n",
      "26      0.3                (item1, item5, item3)\n",
      "25      0.3                (item4, item1, item3)\n",
      "32      0.3                (item2, item3, item5)\n",
      "21      0.3                (item2, item1, item3)\n",
      "22      0.3                (item4, item2, item1)\n",
      "58      0.2  (item1, item6, item4, item2, item5)\n",
      "57      0.2  (item1, item6, item3, item2, item5)\n",
      "56      0.2  (item1, item6, item3, item4, item2)\n",
      "55      0.2         (item4, item3, item5, item6)\n",
      "47      0.2         (item4, item1, item5, item3)\n",
      "51      0.2         (item4, item2, item3, item5)\n",
      "50      0.2         (item4, item1, item5, item6)\n",
      "49      0.2         (item1, item5, item6, item3)\n",
      "48      0.2         (item4, item1, item6, item3)\n",
      "44      0.2         (item4, item2, item1, item5)\n",
      "42      0.2         (item2, item1, item5, item3)\n",
      "41      0.2         (item4, item2, item1, item3)\n",
      "59      0.2  (item3, item6, item4, item2, item5)\n"
     ]
    }
   ],
   "source": [
    "encoded_data = pd.get_dummies(df.stack()).groupby(level=0).max()\n",
    "frequent_item_sets = apriori(encoded_data, min_support=min_support, use_colnames=True, low_memory=True)\n",
    "frequent_item_sets = frequent_item_sets[frequent_item_sets['itemsets'].apply(len) > 1]\n",
    "\n",
    "sorted_freq = frequent_item_sets.sort_values(by='support', ascending=False)\n",
    "print(sorted_freq)"
   ]
  }
 ],
 "metadata": {
  "kernelspec": {
   "display_name": "Python 3",
   "language": "python",
   "name": "python3"
  },
  "language_info": {
   "codemirror_mode": {
    "name": "ipython",
    "version": 3
   },
   "file_extension": ".py",
   "mimetype": "text/x-python",
   "name": "python",
   "nbconvert_exporter": "python",
   "pygments_lexer": "ipython3",
   "version": "3.10.12"
  },
  "orig_nbformat": 4
 },
 "nbformat": 4,
 "nbformat_minor": 2
}
